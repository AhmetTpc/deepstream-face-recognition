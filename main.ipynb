{
    "cells": [
        {
            "cell_type": "code",
            "execution_count": null,
            "id": "aad8b139-8013-4539-abac-36d1e98a74a1",
            "metadata": {},
            "outputs": [],
            "source": [
                "# import cv2\n",
                "# from IPython.display import display, Image\n",
                "\n",
                "# video = cv2.VideoCapture(\"./outputs/videos/InfinityWar.mp4\")\n",
                "# display_handle = display(None, display_id=True)\n",
                "# try:\n",
                "#     while True:\n",
                "#         _, frame = video.read()\n",
                "#         _, frame = cv2.imencode(\".jpg\", frame)\n",
                "#         display_handle.update(Image(data=frame.tobytes()))\n",
                "# except KeyboardInterrupt:\n",
                "#     pass\n",
                "# finally:\n",
                "#     video.release()\n",
                "#     display_handle.update(None)"
            ]
        },
        {
            "cell_type": "code",
            "execution_count": null,
            "id": "e22a7928-daaa-42b4-9315-220ca7e7ed16",
            "metadata": {},
            "outputs": [],
            "source": [
                "from IPython.display import Video\n",
                "\n",
                "Video(\"./outputs/videos/InfinityWar.mp4\")"
            ]
        },
        {
            "cell_type": "code",
            "execution_count": 1,
            "id": "e7ae8b86-1276-4e42-8f1e-0ed615f2a174",
            "metadata": {},
            "outputs": [
                {
                    "data": {
                        "text/plain": [
                            "0.00784313725490196"
                        ]
                    },
                    "execution_count": 1,
                    "metadata": {},
                    "output_type": "execute_result"
                }
            ],
            "source": [
                "1/127.5"
            ]
        },
        {
            "cell_type": "code",
            "execution_count": null,
            "id": "53349d77-326a-4fec-8145-2cd0ad6e9e32",
            "metadata": {},
            "outputs": [],
            "source": []
        }
    ],
    "metadata": {
        "kernelspec": {
            "display_name": "base",
            "language": "python",
            "name": "base"
        },
        "language_info": {
            "codemirror_mode": {
                "name": "ipython",
                "version": 3
            },
            "file_extension": ".py",
            "mimetype": "text/x-python",
            "name": "python",
            "nbconvert_exporter": "python",
            "pygments_lexer": "ipython3",
            "version": "3.6.9"
        }
    },
    "nbformat": 4,
    "nbformat_minor": 5
}
